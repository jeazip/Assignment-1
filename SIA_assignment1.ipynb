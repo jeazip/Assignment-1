{
 "cells": [
  {
   "cell_type": "markdown",
   "metadata": {
    "id": "LzhDdKgd78Cs"
   },
   "source": [
    "Before you turn this problem in, make sure everything runs as expected. First, **restart the kernel** (in the menubar, select `Kernel`$\\rightarrow$`Restart & Run All`).\n",
    "\n",
    "Make sure you fill in any place that says `#YOUR CODE HERE` or `YOUR ANSWER HERE`, as well as your name and collaborators below:"
   ]
  },
  {
   "cell_type": "code",
   "execution_count": null,
   "metadata": {
    "ExecuteTime": {
     "end_time": "2022-01-07T11:13:44.583520Z",
     "start_time": "2022-01-07T11:13:44.580488Z"
    },
    "id": "SFBx4uH778Cu"
   },
   "outputs": [],
   "source": [
    "NAME = \"\"\n",
    "COLLABORATORS = \"\""
   ]
  },
  {
   "cell_type": "markdown",
   "metadata": {
    "id": "d8-Xykz778Cv"
   },
   "source": [
    "---"
   ]
  },
  {
   "cell_type": "markdown",
   "metadata": {
    "id": "4QsKk8TX78Cv",
    "nbgrader": {
     "cell_type": "markdown",
     "checksum": "93469a12a54904257e1369e7dfc856eb",
     "grade": false,
     "grade_id": "cell-5d1bab8fb11fbfef",
     "locked": true,
     "schema_version": 3,
     "solution": false,
     "task": false
    }
   },
   "source": [
    "# General Instructions\n",
    "1 - Start by downloading this jupyter notebook to your local machine.\n",
    "\n",
    "2 - Open a tab in your browser and type https://colab.research.google.com/.\n",
    "\n",
    "3 - This will open a small window. Choose the last option on the upper menu, \"Upload\". Then choose the jupyter notebook you have saved in step 1.\n",
    "\n",
    "4 - If you have any questions, please reach out to your instructor and TAs well before the assignment deadline."
   ]
  },
  {
   "cell_type": "markdown",
   "metadata": {
    "id": "xI8Ze7Pe78Cw",
    "nbgrader": {
     "cell_type": "markdown",
     "checksum": "8a28494d5e39c3d19e74c50161e57cbe",
     "grade": false,
     "grade_id": "cell-51dd6a66c889d356",
     "locked": true,
     "schema_version": 3,
     "solution": false,
     "task": false
    }
   },
   "source": [
    "\n",
    "# Assigment 1- Variables \n",
    "\n",
    "This assignment is a location-based assignment requiring you to interact with the city around you in a new way. To complete this assignment, you will identify a measurable variable to answer a research question, construct a “back-of-the-napkin” estimate, collect data in the city, calculate descriptive statistics on the data, and create relevant data visualizations. Importantly, you will then interpret the results and discuss what your analysis tells you about your location.\n",
    "\n",
    "This is an individual assignment. Everything you submit should be your own words and reflect your understanding of the material."
   ]
  },
  {
   "cell_type": "markdown",
   "metadata": {
    "id": "gaY7isFO78Cw",
    "nbgrader": {
     "cell_type": "markdown",
     "checksum": "7e9daef1ee5fedfeffe8c5cb791d3947",
     "grade": false,
     "grade_id": "cell-80001333fa5a7323",
     "locked": true,
     "schema_version": 3,
     "solution": false,
     "task": false
    }
   },
   "source": [
    "## PART 1: VARIABLE SELECTION \n",
    "\n",
    "Select a neighborhood within a 10-minute walk of where you live. Visit this neighborhood and spend at least 30 minutes exploring the neighborhood to find your variable.\n",
    "\n",
    "Important notes:\n",
    "* The variable must be something that can be measured at different locations in the city. You need to make at least 10 different measurements of this variable, one for each location. The locations must be at least 100 meters away from each other.\n",
    "* You must calculate the mean, median, mode, and standard deviation of the variable.\n",
    "* Be clear about your choice of locations to make the variable measurements.\n",
    "* Get creative! Try to choose an interesting and informative variable and justify why the variable you have chosen is interesting.\n",
    "\n",
    "\n",
    "**1. Define and operationalize your variable here.** \n",
    "\n",
    "Describe how you selected your variable. Specifically, identify the type of variable, and whether you will be measuring a total, proportion, or average. Also, determine the units it will be measured in. Give the address of the 10 or more locations where you will conduct your measurement and provide an image that clearly identifies these locations on a map. (<150 words)\n",
    "\n",
    "Here are some examples for your reference (you should choose your own!):\n",
    "- If the variable varies spatially, you can measure the variable once on each block in a 10+ block neighborhood. For example, you could count the number of pieces of litter on each block. Note that a “city block” is usually defined as a region of a city surrounded on four sides by streets. You could also consider one “side” of the block (a street bounded by two intersections), but in this case, you should justify your choice of definition. Either way, be clear about how the blocks are defined. \n",
    "- You may be interested in measuring the cost of commonly purchased items. If so, you can measure the price of the item per establishment. For example, suppose that one neighborhood had 10+ different coffee shops. You could find the price of a medium-sized cappuccino at each shop. \n",
    "- If the variable varies in time, you can measure the variable at different times of the day. For example, you could count the number of cars in a supermarket’s parking lot at 30-minute intervals for one day.\n",
    "- Another example of a quantity varying in time, right inside your own home, could be the height of the pile of dishes in the sink over different times of the day or days of the week.\n"
   ]
  },
  {
   "cell_type": "markdown",
   "metadata": {
    "id": "8r9NMsd978Cx",
    "nbgrader": {
     "cell_type": "markdown",
     "checksum": "9615af647bdcb0be76b7143176491935",
     "grade": true,
     "grade_id": "cell-1ed136dd8b752dd3",
     "locked": false,
     "points": 0,
     "schema_version": 3,
     "solution": true,
     "task": false
    }
   },
   "source": [
    "YOUR ANSWER HERE"
   ]
  },
  {
   "cell_type": "markdown",
   "metadata": {
    "id": "PX0U3Mwf78Cx",
    "nbgrader": {
     "cell_type": "markdown",
     "checksum": "0da9bbe54fc60d4a0854f03058b66c89",
     "grade": false,
     "grade_id": "cell-ee49af53e25701f1",
     "locked": true,
     "schema_version": 3,
     "solution": false,
     "task": false
    }
   },
   "source": [
    "**`[OPTIONAL]`** \n",
    "\n",
    "**2.** Discuss variable relationships. \n",
    "\n",
    "* **2.1** \n",
    "     - A. Describe a scenario in which your variable could be an independent variable. \n",
    "     - B. What could be the dependent variable(s)? Why?\n",
    "     - C. What are some possible extraneous or confounding variables in this scenario? "
   ]
  },
  {
   "cell_type": "markdown",
   "metadata": {
    "id": "XScg0kg778Cy",
    "nbgrader": {
     "cell_type": "markdown",
     "checksum": "3e23658c3442abdb2db290709f9a62b9",
     "grade": true,
     "grade_id": "cell-a095d540261171f1",
     "locked": false,
     "points": 0,
     "schema_version": 3,
     "solution": true,
     "task": false
    }
   },
   "source": [
    "YOUR ANSWER HERE"
   ]
  },
  {
   "cell_type": "markdown",
   "metadata": {
    "id": "ci_LNQW978Cy",
    "nbgrader": {
     "cell_type": "markdown",
     "checksum": "620d068acb835a14c0cdda1100a6dc59",
     "grade": false,
     "grade_id": "cell-ea654ca58afec136",
     "locked": true,
     "schema_version": 3,
     "solution": false,
     "task": false
    }
   },
   "source": [
    "* **2.2** \n",
    "    * A. Describe a scenario in which your variable could be a dependent variable. \n",
    "    * B. What could be the independent variable(s)? Why?\n",
    "    * C. What are some possible extraneous or confounding variables in this scenario? "
   ]
  },
  {
   "cell_type": "markdown",
   "metadata": {
    "id": "Bb-fCL5a78Cy",
    "nbgrader": {
     "cell_type": "markdown",
     "checksum": "50f1e29a0641243960d550bedca09d13",
     "grade": true,
     "grade_id": "cell-8b98a5becab509e1",
     "locked": false,
     "points": 0,
     "schema_version": 3,
     "solution": true,
     "task": false
    }
   },
   "source": [
    "YOUR ANSWER HERE"
   ]
  },
  {
   "cell_type": "markdown",
   "metadata": {
    "id": "FY5OF90078Cz",
    "nbgrader": {
     "cell_type": "markdown",
     "checksum": "a1cfc396e4285c4317b6894c95dc13f1",
     "grade": false,
     "grade_id": "cell-3cdd49ab1da44efb",
     "locked": true,
     "schema_version": 3,
     "solution": false,
     "task": false
    }
   },
   "source": [
    "## PART 2: ESTIMATION AND MEASUREMENT \n",
    "\n",
    "**Important note:** *Please follow the instructions here carefully and include the original photo files in the zip folder along with the ipynb.*\n",
    "\n",
    "1. `[OPTIONAL]` Go to a Cafe in the neighborhood of your choice to produce a Fermi estimate of your variable. Use a napkin at a cafe to begin your Fermi estimate. You may not (yet) make any measurements. Your estimate should involve at least 5 steps where you compute intermediate values. You will have to describe each step clearly, show your work, state any assumptions you’re making, and discuss whether your answer seems plausible (but it’s not necessary to do so on the napkin; see step 4 below).\n",
    "2. Take some photos to document this experience. You must include:\n",
    "    * A photo just of your “back of the napkin” estimate (it can and should be quite rough at this point)--please consult [this resource](https://brilliant.org/wiki/fermi-estimate/) to learn how to make a Fermi estimate. You will adequately format the calculation later.\n",
    "    * A selfie in the cafe in which you constructed your Fermi estimate. Clearly show your face, your Fermi estimate, and some of the interior of the cafe.\n",
    "    * A selfie outside of the cafe showing your face and the exterior of the cafe, including the name. Bonus points if you are holding your completed Fermi estimate in the photo.\n",
    "3. Typeset your full estimation in the Python notebook. Here, be sure to clearly explain all steps, justify all assumptions, and comment on whether the answer seems plausible.\n",
    "4. It’s time to collect your data! Once again, take some photos to document your experience. Include at least two photos of your variable collection process. At least one photo should include your face and the variable you are counting.\n",
    "\n",
    "Follow the instructions in this [link](https://docs.google.com/document/d/1OTLUMXG8NWzJkgZ5MtpjHpB45gC1IAzyofaC5_-WwPg/edit?usp=sharing\\) to upload your pictures to the Jupyter notebook:\n"
   ]
  },
  {
   "cell_type": "code",
   "execution_count": null,
   "metadata": {
    "ExecuteTime": {
     "end_time": "2022-01-07T11:13:44.738313Z",
     "start_time": "2022-01-07T11:13:44.620184Z"
    },
    "id": "b-eks6U978Cz",
    "nbgrader": {
     "cell_type": "code",
     "checksum": "1cdc69a1c6cd0e315a27ff95fa6d3231",
     "grade": true,
     "grade_id": "cell-90cd9bd33558dec0",
     "locked": false,
     "points": 0,
     "schema_version": 3,
     "solution": true,
     "task": false
    }
   },
   "outputs": [],
   "source": [
    "# YOUR CODE HERE\n",
    "raise NotImplementedError()"
   ]
  },
  {
   "cell_type": "code",
   "execution_count": null,
   "metadata": {
    "ExecuteTime": {
     "end_time": "2022-01-07T11:13:44.740910Z",
     "start_time": "2022-01-07T11:13:44.740873Z"
    },
    "id": "lwT60D9j78C0",
    "nbgrader": {
     "cell_type": "code",
     "checksum": "1647791fed2d59642fc9fa9916a51281",
     "grade": true,
     "grade_id": "cell-ed6e5e2c8b369f5c",
     "locked": false,
     "points": 0,
     "schema_version": 3,
     "solution": true,
     "task": false
    }
   },
   "outputs": [],
   "source": [
    "# YOUR CODE HERE\n",
    "raise NotImplementedError()"
   ]
  },
  {
   "cell_type": "markdown",
   "metadata": {
    "id": "WOVZYxvm78C0"
   },
   "source": [
    "## PART 3: ANALYSIS\n",
    "\n",
    "**1.** Analyze the data in Python:\n",
    "\n",
    "**1.1** Use any method to import your collected data into Python. Simply type the data directly into a Python list. Or, you can put the data in a Google sheet, export it to a .cvs file, and import it into Python. Print your data in the cell below.\n",
    "   "
   ]
  },
  {
   "cell_type": "code",
   "execution_count": null,
   "metadata": {
    "ExecuteTime": {
     "end_time": "2022-01-07T11:13:44.744931Z",
     "start_time": "2022-01-07T11:13:44.744917Z"
    },
    "id": "JhgWPZmy78C1",
    "nbgrader": {
     "cell_type": "code",
     "checksum": "b2fb310a0e02316356fea6c2af314e69",
     "grade": true,
     "grade_id": "cell-22b6d6913eec3919",
     "locked": false,
     "points": 0,
     "schema_version": 3,
     "solution": true,
     "task": false
    }
   },
   "outputs": [],
   "source": [
    "# YOUR CODE HERE\n",
    "raise NotImplementedError()"
   ]
  },
  {
   "cell_type": "markdown",
   "metadata": {
    "id": "cWjwnt5678C1",
    "nbgrader": {
     "cell_type": "markdown",
     "checksum": "159e9e9246141353f812115c4a28ea75",
     "grade": false,
     "grade_id": "cell-e0065038ddbba27e",
     "locked": true,
     "schema_version": 3,
     "solution": false,
     "task": false
    }
   },
   "source": [
    " **1.2** Using Python, calculate your variable's mean, median, mode, range, and standard deviation. Print these values. If you use a library function, you need to explain how it works with detailed comments. Do not blindly use library functions!\n",
    "\n",
    "**Note**: Round your final answers up to 2 decimals."
   ]
  },
  {
   "cell_type": "code",
   "execution_count": null,
   "metadata": {
    "ExecuteTime": {
     "end_time": "2022-01-07T11:13:44.746975Z",
     "start_time": "2022-01-07T11:13:44.746947Z"
    },
    "id": "Eux5fIsZ78C1",
    "nbgrader": {
     "cell_type": "code",
     "checksum": "dfc80b97c94ce9480aa297e8730af138",
     "grade": false,
     "grade_id": "cell-6a32cc100ab88b75",
     "locked": false,
     "schema_version": 3,
     "solution": true,
     "task": false
    }
   },
   "outputs": [],
   "source": [
    "def mean(my_data):\n",
    "    \"\"\"\n",
    "    calculates the mean of your data\n",
    "    \n",
    "    Input:\n",
    "    my_data: an array of numbers (floats)\n",
    "    \n",
    "    Output: a float that represents the mean of your data\n",
    "    \"\"\"\n",
    "    # YOUR CODE HERE\n",
    "    raise NotImplementedError()"
   ]
  },
  {
   "cell_type": "code",
   "execution_count": null,
   "metadata": {
    "ExecuteTime": {
     "end_time": "2022-01-07T11:13:44.748823Z",
     "start_time": "2022-01-07T11:13:44.748808Z"
    },
    "id": "J7NzWweJ78C2",
    "nbgrader": {
     "cell_type": "code",
     "checksum": "d9ebeb25b856eeb52736dc7aa334d812",
     "grade": false,
     "grade_id": "cell-1370b99b4d8ed462",
     "locked": false,
     "schema_version": 3,
     "solution": true,
     "task": false
    }
   },
   "outputs": [],
   "source": [
    "def median(my_data):\n",
    "    \"\"\"\n",
    "    calculates the median of your data\n",
    "    \n",
    "    Input:\n",
    "    my_data: an array of numbers (floats)\n",
    "    \n",
    "    Output: a float that represents the median of your data\n",
    "    \"\"\"\n",
    "    # YOUR CODE HERE\n",
    "    raise NotImplementedError()"
   ]
  },
  {
   "cell_type": "code",
   "execution_count": null,
   "metadata": {
    "ExecuteTime": {
     "end_time": "2022-01-07T11:13:44.750199Z",
     "start_time": "2022-01-07T11:13:44.750175Z"
    },
    "id": "lsc6Ywz678C2",
    "nbgrader": {
     "cell_type": "code",
     "checksum": "e94cb5bbb45e1af4ce3a07e0a4ea06c6",
     "grade": false,
     "grade_id": "cell-3978538d7826bab3",
     "locked": false,
     "schema_version": 3,
     "solution": true,
     "task": false
    }
   },
   "outputs": [],
   "source": [
    "def mode(my_data):\n",
    "    \"\"\"\n",
    "    calculates the mode of your data\n",
    "    \n",
    "    Input:\n",
    "    my_data: an array of numbers (floats)\n",
    "    \n",
    "    Output: a flaot that represents the mode of your data\n",
    "    \"\"\"\n",
    "    # YOUR CODE HERE\n",
    "    raise NotImplementedError()"
   ]
  },
  {
   "cell_type": "code",
   "execution_count": null,
   "metadata": {
    "ExecuteTime": {
     "end_time": "2022-01-07T11:13:44.752860Z",
     "start_time": "2022-01-07T11:13:44.752843Z"
    },
    "id": "LagwwNHr78C2",
    "nbgrader": {
     "cell_type": "code",
     "checksum": "c4cd9d23e859e3f274c611fc098eab30",
     "grade": false,
     "grade_id": "cell-c4f18dc8ed1f17b5",
     "locked": false,
     "schema_version": 3,
     "solution": true,
     "task": false
    }
   },
   "outputs": [],
   "source": [
    "def data_range(my_data):\n",
    "    \"\"\"\n",
    "    calculates the range of your data\n",
    "    \n",
    "    Input:\n",
    "    my_data: an array of numbers (floats)\n",
    "    \n",
    "    Output: a float that represents the range of your data\n",
    "    \"\"\"\n",
    "    # YOUR CODE HERE\n",
    "    raise NotImplementedError()"
   ]
  },
  {
   "cell_type": "code",
   "execution_count": null,
   "metadata": {
    "ExecuteTime": {
     "end_time": "2022-01-07T11:13:44.754181Z",
     "start_time": "2022-01-07T11:13:44.754165Z"
    },
    "id": "antxjf6j78C3",
    "nbgrader": {
     "cell_type": "code",
     "checksum": "25ee1808adaccb35dc0255b728397810",
     "grade": false,
     "grade_id": "cell-303389f3b73a5b49",
     "locked": false,
     "schema_version": 3,
     "solution": true,
     "task": false
    }
   },
   "outputs": [],
   "source": [
    "def standard_deviation(my_data):\n",
    "    \"\"\"\n",
    "    calculates the standard deviation of your data\n",
    "    \n",
    "    Input:\n",
    "    my_data: an array of numbers (floats)\n",
    "    \n",
    "    Output: a float that represents the standard deviation of your data\n",
    "    \"\"\"\n",
    "    # YOUR CODE HERE\n",
    "    raise NotImplementedError()"
   ]
  },
  {
   "cell_type": "markdown",
   "metadata": {
    "id": "HcDo5BqC78C3",
    "nbgrader": {
     "cell_type": "markdown",
     "checksum": "a62d71cf01f1f0725982563a19c49305",
     "grade": false,
     "grade_id": "cell-185290773563388b",
     "locked": true,
     "schema_version": 3,
     "solution": false,
     "task": false
    }
   },
   "source": [
    "**1.3** Create a histogram for your data, properly formatting your figure, using any software tool of your preference."
   ]
  },
  {
   "cell_type": "code",
   "execution_count": null,
   "metadata": {
    "ExecuteTime": {
     "end_time": "2022-01-07T11:13:44.755778Z",
     "start_time": "2022-01-07T11:13:44.755743Z"
    },
    "id": "bPW-nCe_78C4",
    "nbgrader": {
     "cell_type": "code",
     "checksum": "2697850ae5fea23aa183967b4694d3f2",
     "grade": true,
     "grade_id": "cell-7cb4ac72f966a5a6",
     "locked": false,
     "points": 0,
     "schema_version": 3,
     "solution": true,
     "task": false
    }
   },
   "outputs": [],
   "source": [
    "# YOUR CODE HERE\n",
    "raise NotImplementedError()"
   ]
  },
  {
   "cell_type": "markdown",
   "metadata": {
    "id": "MZDjwN3R78C4",
    "nbgrader": {
     "cell_type": "markdown",
     "checksum": "252e9c10bcaa939e3b7d28093272f680",
     "grade": false,
     "grade_id": "cell-758ffa7f5060dd15",
     "locked": true,
     "schema_version": 3,
     "solution": false,
     "task": false
    }
   },
   "source": [
    "## PART 4: REFLECTION\n",
    "\n",
    "Reflect on your application of the LOs in this assignment. How are the connections in the city map to the connections between the different LOs. Also, reflect on how your prediction and estimation from parts 1 and 2 compare to the results. (<200 words)"
   ]
  },
  {
   "cell_type": "markdown",
   "metadata": {
    "id": "G-DH8X4j78C4",
    "nbgrader": {
     "cell_type": "markdown",
     "checksum": "7c1cc68c14b9531868970a212beb460c",
     "grade": true,
     "grade_id": "cell-0891a78d85521cca",
     "locked": false,
     "points": 0,
     "schema_version": 3,
     "solution": true,
     "task": false
    }
   },
   "source": [
    "YOUR ANSWER HERE"
   ]
  },
  {
   "cell_type": "markdown",
   "metadata": {
    "id": "UnNrPMzy78C5",
    "nbgrader": {
     "cell_type": "markdown",
     "checksum": "cf102a056570e8a5ae7798b1620d999d",
     "grade": false,
     "grade_id": "cell-a35b3b222a3ba694",
     "locked": true,
     "schema_version": 3,
     "solution": false,
     "task": false
    }
   },
   "source": [
    "### PYTHON TIPS\n",
    "Part of the purpose of this assignment is to expose you to and give you practice in using tools for working with data in Python. The following may be helpful.\n",
    "\n",
    "* Your professors are here to help! Make use of office hours for assistance.\n",
    "* Reminder: no matter what, your code needs comments. Read [this resource](https://towardsdatascience.com/documenting-your-python-code-9e69671f046a) about the importance of comments and for further guidance."
   ]
  },
  {
   "cell_type": "code",
   "execution_count": null,
   "metadata": {
    "id": "fSpRBoZ378C5"
   },
   "outputs": [],
   "source": []
  }
 ],
 "metadata": {
  "colab": {
   "name": "SIA_assignment1.ipynb",
   "provenance": []
  },
  "kernelspec": {
   "display_name": "Python 3",
   "language": "python",
   "name": "python3"
  },
  "language_info": {
   "codemirror_mode": {
    "name": "ipython",
    "version": 3
   },
   "file_extension": ".py",
   "mimetype": "text/x-python",
   "name": "python",
   "nbconvert_exporter": "python",
   "pygments_lexer": "ipython3",
   "version": "3.7.7"
  },
  "latex_envs": {
   "LaTeX_envs_menu_present": true,
   "autoclose": false,
   "autocomplete": true,
   "bibliofile": "biblio.bib",
   "cite_by": "apalike",
   "current_citInitial": 1,
   "eqLabelWithNumbers": true,
   "eqNumInitial": 1,
   "hotkeys": {
    "equation": "Ctrl-E",
    "itemize": "Ctrl-I"
   },
   "labels_anchors": false,
   "latex_user_defs": false,
   "report_style_numbering": false,
   "user_envs_cfg": false
  }
 },
 "nbformat": 4,
 "nbformat_minor": 1
}
